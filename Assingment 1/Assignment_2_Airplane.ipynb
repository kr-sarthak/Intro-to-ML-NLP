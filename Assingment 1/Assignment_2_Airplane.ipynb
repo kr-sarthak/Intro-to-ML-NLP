{
  "nbformat": 4,
  "nbformat_minor": 0,
  "metadata": {
    "colab": {
      "provenance": [],
      "gpuType": "T4"
    },
    "kernelspec": {
      "name": "python3",
      "display_name": "Python 3"
    },
    "language_info": {
      "name": "python"
    },
    "accelerator": "GPU"
  },
  "cells": [
    {
      "cell_type": "code",
      "source": [
        "!pip install gensim nltk"
      ],
      "metadata": {
        "colab": {
          "base_uri": "https://localhost:8080/"
        },
        "id": "MjBejIng_Ytl",
        "outputId": "3d7e9ecf-00de-4827-e703-c61da888ce2f"
      },
      "execution_count": 7,
      "outputs": [
        {
          "output_type": "stream",
          "name": "stdout",
          "text": [
            "Requirement already satisfied: gensim in /usr/local/lib/python3.11/dist-packages (4.3.3)\n",
            "Requirement already satisfied: nltk in /usr/local/lib/python3.11/dist-packages (3.9.1)\n",
            "Requirement already satisfied: numpy<2.0,>=1.18.5 in /usr/local/lib/python3.11/dist-packages (from gensim) (1.26.4)\n",
            "Requirement already satisfied: scipy<1.14.0,>=1.7.0 in /usr/local/lib/python3.11/dist-packages (from gensim) (1.13.1)\n",
            "Requirement already satisfied: smart-open>=1.8.1 in /usr/local/lib/python3.11/dist-packages (from gensim) (7.1.0)\n",
            "Requirement already satisfied: click in /usr/local/lib/python3.11/dist-packages (from nltk) (8.2.1)\n",
            "Requirement already satisfied: joblib in /usr/local/lib/python3.11/dist-packages (from nltk) (1.5.1)\n",
            "Requirement already satisfied: regex>=2021.8.3 in /usr/local/lib/python3.11/dist-packages (from nltk) (2024.11.6)\n",
            "Requirement already satisfied: tqdm in /usr/local/lib/python3.11/dist-packages (from nltk) (4.67.1)\n",
            "Requirement already satisfied: wrapt in /usr/local/lib/python3.11/dist-packages (from smart-open>=1.8.1->gensim) (1.17.2)\n"
          ]
        }
      ]
    },
    {
      "cell_type": "code",
      "source": [
        "import nltk\n",
        "\n",
        "# Downloads required for tokenization and stopwords\n",
        "nltk.download('punkt')\n",
        "nltk.download('stopwords')\n"
      ],
      "metadata": {
        "colab": {
          "base_uri": "https://localhost:8080/"
        },
        "id": "vnoHj7kIBGHi",
        "outputId": "f575bfec-1a32-4eba-a8a0-7bc2043288b2"
      },
      "execution_count": 8,
      "outputs": [
        {
          "output_type": "stream",
          "name": "stderr",
          "text": [
            "[nltk_data] Downloading package punkt to /root/nltk_data...\n",
            "[nltk_data]   Package punkt is already up-to-date!\n",
            "[nltk_data] Downloading package stopwords to /root/nltk_data...\n",
            "[nltk_data]   Package stopwords is already up-to-date!\n"
          ]
        },
        {
          "output_type": "execute_result",
          "data": {
            "text/plain": [
              "True"
            ]
          },
          "metadata": {},
          "execution_count": 8
        }
      ]
    },
    {
      "cell_type": "code",
      "source": [
        "import nltk, shutil\n",
        "shutil.rmtree('/root/nltk_data/tokenizers/punkt', ignore_errors=True)\n",
        "nltk.download('punkt')\n",
        "nltk.download('stopwords')\n"
      ],
      "metadata": {
        "colab": {
          "base_uri": "https://localhost:8080/"
        },
        "id": "xG8lwGdIDRTV",
        "outputId": "e45d2f17-d786-4d8c-b204-7185cca28134"
      },
      "execution_count": 6,
      "outputs": [
        {
          "output_type": "stream",
          "name": "stderr",
          "text": [
            "[nltk_data] Downloading package punkt to /root/nltk_data...\n",
            "[nltk_data]   Package punkt is already up-to-date!\n",
            "[nltk_data] Downloading package stopwords to /root/nltk_data...\n",
            "[nltk_data]   Package stopwords is already up-to-date!\n"
          ]
        },
        {
          "output_type": "execute_result",
          "data": {
            "text/plain": [
              "True"
            ]
          },
          "metadata": {},
          "execution_count": 6
        }
      ]
    },
    {
      "cell_type": "code",
      "source": [
        "import nltk\n",
        "import shutil\n",
        "import os\n",
        "\n",
        "# Remove broken nltk cache if it exists\n",
        "shutil.rmtree('/root/nltk_data/tokenizers/punkt', ignore_errors=True)\n",
        "\n",
        "# Clean redownload\n",
        "nltk.download('punkt')\n",
        "nltk.download('stopwords')\n"
      ],
      "metadata": {
        "colab": {
          "base_uri": "https://localhost:8080/"
        },
        "id": "c04XheM-BJdo",
        "outputId": "1768680b-f8b4-467e-ded5-ad745dc08611"
      },
      "execution_count": 2,
      "outputs": [
        {
          "output_type": "stream",
          "name": "stderr",
          "text": [
            "[nltk_data] Downloading package punkt to /root/nltk_data...\n",
            "[nltk_data]   Package punkt is already up-to-date!\n",
            "[nltk_data] Downloading package stopwords to /root/nltk_data...\n",
            "[nltk_data]   Package stopwords is already up-to-date!\n"
          ]
        },
        {
          "output_type": "execute_result",
          "data": {
            "text/plain": [
              "True"
            ]
          },
          "metadata": {},
          "execution_count": 2
        }
      ]
    },
    {
      "cell_type": "code",
      "source": [
        "from nltk.tokenize import word_tokenize\n",
        "import nltk\n",
        "nltk.download('punkt_tab') # Download the missing resource\n",
        "print(word_tokenize(\"Colab NLTK is now working!\"))"
      ],
      "metadata": {
        "colab": {
          "base_uri": "https://localhost:8080/"
        },
        "id": "3bUDqX_NB6Ea",
        "outputId": "a60014bd-35d3-42f7-c84b-26a26cbca472"
      },
      "execution_count": 4,
      "outputs": [
        {
          "output_type": "stream",
          "name": "stdout",
          "text": [
            "['Colab', 'NLTK', 'is', 'now', 'working', '!']\n"
          ]
        },
        {
          "output_type": "stream",
          "name": "stderr",
          "text": [
            "[nltk_data] Downloading package punkt_tab to /root/nltk_data...\n",
            "[nltk_data]   Unzipping tokenizers/punkt_tab.zip.\n"
          ]
        }
      ]
    },
    {
      "cell_type": "code",
      "execution_count": 7,
      "metadata": {
        "colab": {
          "base_uri": "https://localhost:8080/"
        },
        "id": "ljrVcUv19REi",
        "outputId": "d9399f0f-9f53-4fd2-81b6-465032d84f06"
      },
      "outputs": [
        {
          "output_type": "stream",
          "name": "stderr",
          "text": [
            "[nltk_data] Downloading package punkt to /root/nltk_data...\n",
            "[nltk_data]   Package punkt is already up-to-date!\n",
            "[nltk_data] Downloading package stopwords to /root/nltk_data...\n",
            "[nltk_data]   Package stopwords is already up-to-date!\n",
            "[nltk_data] Downloading package punkt_tab to /root/nltk_data...\n",
            "[nltk_data]   Package punkt_tab is already up-to-date!\n"
          ]
        },
        {
          "output_type": "stream",
          "name": "stdout",
          "text": [
            "[==================================================] 100.0% 1662.8/1662.8MB downloaded\n",
            "Test Accuracy: 0.9443946188340807\n"
          ]
        }
      ],
      "source": [
        "import pandas as pd\n",
        "import numpy as np\n",
        "import gensim.downloader as api\n",
        "import nltk\n",
        "import string\n",
        "from sklearn.linear_model import LogisticRegression\n",
        "from sklearn.model_selection import train_test_split\n",
        "from sklearn.metrics import accuracy_score\n",
        "from nltk.corpus import stopwords\n",
        "from nltk.tokenize import word_tokenize\n",
        "\n",
        "# NLTK Downloads\n",
        "nltk.download('punkt')\n",
        "nltk.download('stopwords')\n",
        "nltk.download('punkt_tab') # Download the missing resource\n",
        "\n",
        "# Load your dataset\n",
        "df = pd.read_csv(\"/content/spam.csv\", encoding='ISO-8859-1')\n",
        "\n",
        "# Rename and keep necessary columns (assuming structure matches standard spam.csv)\n",
        "df = df[['v1', 'v2']]\n",
        "df.columns = ['Label', 'Message']\n",
        "\n",
        "# Preprocessing setup\n",
        "stop_words = set(stopwords.words('english'))\n",
        "\n",
        "def preprocess(text):\n",
        "    tokens = word_tokenize(text.lower(), language='english') # Explicitly specify language\n",
        "    tokens = [t for t in tokens if t not in string.punctuation and t not in stop_words]\n",
        "    return tokens\n",
        "\n",
        "df['tokens'] = df['Message'].apply(preprocess)\n",
        "\n",
        "# Load Google News Word2Vec (downloads ~1.5GB first time)\n",
        "w2v = api.load(\"word2vec-google-news-300\")\n",
        "\n",
        "def vectorize(tokens, model):\n",
        "    vectors = [model[word] for word in tokens if word in model]\n",
        "    return np.mean(vectors, axis=0) if vectors else np.zeros(300)\n",
        "\n",
        "df['vector'] = df['tokens'].apply(lambda x: vectorize(x, w2v))\n",
        "\n",
        "# Prepare data\n",
        "X = np.stack(df['vector'].values)\n",
        "y = df['Label'].map({'ham': 0, 'spam': 1})\n",
        "\n",
        "X_train, X_test, y_train, y_test = train_test_split(X, y, test_size=0.2, random_state=42)\n",
        "\n",
        "# Train model\n",
        "model = LogisticRegression(max_iter=1000)\n",
        "model.fit(X_train, y_train)\n",
        "\n",
        "# Evaluate\n",
        "y_pred = model.predict(X_test)\n",
        "print(\"Test Accuracy:\", accuracy_score(y_test, y_pred))\n",
        "\n",
        "# Predict function\n",
        "def predict_message_class(model, w2v_model, message):\n",
        "    tokens = preprocess(message)\n",
        "    vec = vectorize(tokens, w2v_model).reshape(1, -1)\n",
        "    pred = model.predict(vec)[0]\n",
        "    return 'spam' if pred == 1 else 'ham'"
      ]
    },
    {
      "cell_type": "code",
      "source": [
        "def predict_message_class(model, w2v_model, message):\n",
        "    tokens = preprocess(message)  # lowercase, tokenize, remove punctuation/stopwords\n",
        "    vec = vectorize(tokens, w2v_model).reshape(1, -1)  # convert to vector\n",
        "    pred = model.predict(vec)[0]\n",
        "    return 'spam' if pred == 1 else 'ham'\n"
      ],
      "metadata": {
        "id": "It5mkuUiFTJZ"
      },
      "execution_count": 8,
      "outputs": []
    },
    {
      "cell_type": "code",
      "source": [
        "msg = \"Congrats! You've won a free vacation. Call now!\"\n",
        "print(\"Prediction:\", predict_message_class(model, w2v, msg))  # → likely 'spam'\n"
      ],
      "metadata": {
        "colab": {
          "base_uri": "https://localhost:8080/"
        },
        "id": "C4X55DdWFU8k",
        "outputId": "d14a6393-c819-46c2-c4ae-8c5d85349728"
      },
      "execution_count": 11,
      "outputs": [
        {
          "output_type": "stream",
          "name": "stdout",
          "text": [
            "Prediction: ham\n"
          ]
        }
      ]
    },
    {
      "cell_type": "code",
      "source": [
        "#solution to problem 2"
      ],
      "metadata": {
        "id": "3bcgxKdHHyKH"
      },
      "execution_count": null,
      "outputs": []
    },
    {
      "cell_type": "code",
      "source": [
        "!pip install -q nltk gensim scikit-learn\n"
      ],
      "metadata": {
        "id": "vxnyoFhZH6ew"
      },
      "execution_count": 12,
      "outputs": []
    },
    {
      "cell_type": "code",
      "source": [
        "import gensim.downloader as api\n",
        "\n",
        "wv = api.load('word2vec-google-news-300')\n",
        "\n",
        "vec_king = wv['king']"
      ],
      "metadata": {
        "id": "u4Wq0CcxJmIW"
      },
      "execution_count": 19,
      "outputs": []
    },
    {
      "cell_type": "code",
      "source": [
        "import pandas as pd\n",
        "import numpy as np\n",
        "import nltk\n",
        "import re\n",
        "import string\n",
        "import shutil\n",
        "from sklearn.linear_model import LogisticRegression\n",
        "from sklearn.model_selection import train_test_split\n",
        "from sklearn.metrics import accuracy_score\n",
        "from nltk.tokenize import word_tokenize\n",
        "from nltk.corpus import stopwords\n",
        "from nltk.stem import WordNetLemmatizer\n",
        "\n",
        "# NLTK setup\n",
        "shutil.rmtree('/root/nltk_data/tokenizers/punkt', ignore_errors=True)\n",
        "nltk.download('punkt')\n",
        "nltk.download('stopwords')\n",
        "nltk.download('wordnet')\n",
        "\n",
        "# ✅ Use your already loaded Word2Vec model\n",
        "import gensim.downloader as api\n",
        "wv = api.load('word2vec-google-news-300')\n",
        "\n",
        "# 📥 Load dataset (adjust path if needed)\n",
        "df = pd.read_csv(\"/content/Tweets.csv\")[['airline_sentiment', 'text']]\n",
        "df.columns = ['Sentiment', 'Tweet']\n",
        "\n",
        "# Expand common contractions\n",
        "contractions = {\n",
        "    \"can't\": \"can not\", \"won't\": \"will not\", \"don't\": \"do not\", \"i'm\": \"i am\",\n",
        "    \"it's\": \"it is\", \"i've\": \"i have\", \"didn't\": \"did not\", \"doesn't\": \"does not\",\n",
        "    \"you're\": \"you are\", \"we're\": \"we are\", \"they're\": \"they are\"\n",
        "}\n",
        "\n",
        "stop_words = set(stopwords.words('english'))\n",
        "lemmatizer = WordNetLemmatizer()\n",
        "\n",
        "def preprocess(text):\n",
        "    text = text.lower()\n",
        "    text = re.sub(r\"http\\S+|@\\S+|#\\S+\", \"\", text)  # remove URLs, mentions, hashtags\n",
        "    for c, e in contractions.items():\n",
        "        text = text.replace(c, e)\n",
        "    text = re.sub(f\"[{re.escape(string.punctuation)}]\", \"\", text)\n",
        "    tokens = word_tokenize(text)\n",
        "    tokens = [lemmatizer.lemmatize(t) for t in tokens if t not in stop_words and t.isalpha()]\n",
        "    return tokens\n",
        "\n",
        "df['tokens'] = df['Tweet'].apply(preprocess)\n",
        "\n",
        "# Use your model: wv\n",
        "def vectorize(tokens, model):\n",
        "    vectors = [model[word] for word in tokens if word in model]\n",
        "    return np.mean(vectors, axis=0) if vectors else np.zeros(300)\n",
        "\n",
        "df['vector'] = df['tokens'].apply(lambda x: vectorize(x, wv))\n",
        "\n",
        "# Prepare data\n",
        "X = np.stack(df['vector'].values)\n",
        "y = df['Sentiment'].map({'negative': 0, 'neutral': 1, 'positive': 2})\n",
        "\n",
        "X_train, X_test, y_train, y_test = train_test_split(X, y, test_size=0.2, random_state=42)\n",
        "\n",
        "# Multiclass Logistic Regression\n",
        "model = LogisticRegression(max_iter=1000, multi_class='multinomial', solver='lbfgs')\n",
        "model.fit(X_train, y_train)\n",
        "\n",
        "# Evaluate\n",
        "y_pred = model.predict(X_test)\n",
        "print(\"Test Accuracy:\", accuracy_score(y_test, y_pred))\n"
      ],
      "metadata": {
        "colab": {
          "base_uri": "https://localhost:8080/"
        },
        "id": "B9uYwIzcJ21j",
        "outputId": "c7ca456d-2b7b-4074-c585-f39717dc255a"
      },
      "execution_count": 20,
      "outputs": [
        {
          "output_type": "stream",
          "name": "stderr",
          "text": [
            "[nltk_data] Downloading package punkt to /root/nltk_data...\n",
            "[nltk_data]   Package punkt is already up-to-date!\n",
            "[nltk_data] Downloading package stopwords to /root/nltk_data...\n",
            "[nltk_data]   Package stopwords is already up-to-date!\n",
            "[nltk_data] Downloading package wordnet to /root/nltk_data...\n",
            "[nltk_data]   Package wordnet is already up-to-date!\n",
            "/usr/local/lib/python3.11/dist-packages/sklearn/linear_model/_logistic.py:1247: FutureWarning: 'multi_class' was deprecated in version 1.5 and will be removed in 1.7. From then on, it will always use 'multinomial'. Leave it to its default value to avoid this warning.\n",
            "  warnings.warn(\n"
          ]
        },
        {
          "output_type": "stream",
          "name": "stdout",
          "text": [
            "Test Accuracy: 0.7687841530054644\n"
          ]
        }
      ]
    },
    {
      "cell_type": "code",
      "source": [],
      "metadata": {
        "id": "glJTLTb1K79l"
      },
      "execution_count": 23,
      "outputs": []
    },
    {
      "cell_type": "code",
      "source": [
        "def predict_tweet_sentiment(model, w2v_model, tweet):\n",
        "    import re, string\n",
        "    from nltk.tokenize import word_tokenize\n",
        "    from nltk.corpus import stopwords\n",
        "    from nltk.stem import WordNetLemmatizer\n",
        "\n",
        "    contractions = {\n",
        "        \"can't\": \"can not\", \"won't\": \"will not\", \"don't\": \"do not\", \"i'm\": \"i am\",\n",
        "        \"it's\": \"it is\", \"i've\": \"i have\", \"didn't\": \"did not\", \"doesn't\": \"does not\",\n",
        "        \"you're\": \"you are\", \"we're\": \"we are\", \"they're\": \"they are\"\n",
        "    }\n",
        "\n",
        "    stop_words = set(stopwords.words('english'))\n",
        "    lemmatizer = WordNetLemmatizer()\n",
        "\n",
        "    tweet = tweet.lower()\n",
        "    tweet = re.sub(r\"http\\S+|@\\S+|#\\S+\", \"\", tweet)\n",
        "    for c, e in contractions.items():\n",
        "        tweet = tweet.replace(c, e)\n",
        "    tweet = re.sub(f\"[{re.escape(string.punctuation)}]\", \"\", tweet)\n",
        "    tokens = word_tokenize(tweet)\n",
        "    tokens = [lemmatizer.lemmatize(t) for t in tokens if t not in stop_words and t.isalpha()]\n",
        "\n",
        "    vectors = [w2v_model[word] for word in tokens if word in w2v_model]\n",
        "    vec = np.mean(vectors, axis=0) if vectors else np.zeros(w2v_model.vector_size)\n",
        "\n",
        "    pred = model.predict(vec.reshape(1, -1))[0]\n",
        "    return {0: 'negative', 1: 'neutral', 2: 'positive'}[pred]\n"
      ],
      "metadata": {
        "id": "42dimMypK-gV"
      },
      "execution_count": 25,
      "outputs": []
    },
    {
      "cell_type": "code",
      "source": [
        "# Example tweet\n",
        "tweet = \"I had a great experience flying with Delta Airlines!\"\n",
        "\n",
        "# Predict sentiment\n",
        "result = predict_tweet_sentiment(model, wv, tweet)\n",
        "\n",
        "# Show output\n",
        "print(\"Predicted Sentiment:\", result)\n"
      ],
      "metadata": {
        "colab": {
          "base_uri": "https://localhost:8080/"
        },
        "id": "bqTIgxpLLV3a",
        "outputId": "dcd33761-db14-4a25-f96f-e5a5dae58cd8"
      },
      "execution_count": 26,
      "outputs": [
        {
          "output_type": "stream",
          "name": "stdout",
          "text": [
            "Predicted Sentiment: positive\n"
          ]
        }
      ]
    }
  ]
}